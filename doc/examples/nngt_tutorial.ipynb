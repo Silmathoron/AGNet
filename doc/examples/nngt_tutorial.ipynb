{
 "cells": [
  {
   "cell_type": "markdown",
   "metadata": {
    "deletable": true,
    "editable": true
   },
   "source": [
    "# NNGT example notebook\n",
    "\n",
    "This notebook provides the following examples\n",
    "\n",
    "* Basic graph creation\n",
    "* Use of generation algorithms\n",
    "* Using node and edge attributes\n",
    "* Creation of complex networks containing various groups of neurons\n",
    "* NEST interaction\n",
    "* Space-embedded networks\n",
    "\n",
    "Last update: 7/11/2017"
   ]
  },
  {
   "cell_type": "markdown",
   "metadata": {
    "deletable": true,
    "editable": true
   },
   "source": [
    "## Required imports"
   ]
  },
  {
   "cell_type": "code",
   "execution_count": 1,
   "metadata": {
    "collapsed": false,
    "deletable": true,
    "editable": true
   },
   "outputs": [
    {
     "name": "stderr",
     "output_type": "stream",
     "text": [
      "[INFO @ nngt.geometry]: Could not import dxftools: No module named dxfgrabber\n",
      "[INFO @ nngt]: \n",
      "    -----------\n",
      "    NNGT loaded\n",
      "    -----------\n",
      "Graph library:  graph-tool\n",
      "Multithreading: False (1 thread)\n",
      "Plotting:       True\n",
      "NEST support:   NEST 2.12.0\n",
      "Database:       False\n",
      "    -----------\n",
      "\n"
     ]
    }
   ],
   "source": [
    "#%matplotlib inline\n",
    "import matplotlib\n",
    "matplotlib.use('Qt4Agg')\n",
    "import matplotlib.pyplot as plt\n",
    "plt.rcParams['figure.figsize'] = (15, 6)\n",
    "\n",
    "import numpy as np\n",
    "\n",
    "import nngt\n",
    "from nngt import generation as ng\n",
    "from nngt import analysis as na\n",
    "from nngt import plot as nplt"
   ]
  },
  {
   "cell_type": "markdown",
   "metadata": {
    "deletable": true,
    "editable": true
   },
   "source": [
    "## Basic graph creation"
   ]
  },
  {
   "cell_type": "code",
   "execution_count": 2,
   "metadata": {
    "collapsed": false,
    "deletable": true,
    "editable": true
   },
   "outputs": [],
   "source": [
    "''' Create an empty Graph '''\n",
    "g = nngt.Graph()"
   ]
  },
  {
   "cell_type": "code",
   "execution_count": 3,
   "metadata": {
    "collapsed": false,
    "deletable": true,
    "editable": true
   },
   "outputs": [
    {
     "data": {
      "text/plain": [
       "10"
      ]
     },
     "execution_count": 3,
     "metadata": {},
     "output_type": "execute_result"
    }
   ],
   "source": [
    "''' Add nodes '''\n",
    "g.new_node(10)  # create nodes 0, 1, ... to 9\n",
    "g.node_nb()     # returns 10"
   ]
  },
  {
   "cell_type": "code",
   "execution_count": 4,
   "metadata": {
    "collapsed": false,
    "deletable": true,
    "editable": true
   },
   "outputs": [
    {
     "data": {
      "text/plain": [
       "4"
      ]
     },
     "execution_count": 4,
     "metadata": {},
     "output_type": "execute_result"
    }
   ],
   "source": [
    "''' Add edges between these nodes '''\n",
    "g.new_edge(1, 4)  # create on connection going from 11 to 56\n",
    "g.edge_nb()       # returns 1\n",
    "g.new_edges([(0, 3), (5, 9), (9, 3)])\n",
    "g.edge_nb()       # returns 4"
   ]
  },
  {
   "cell_type": "markdown",
   "metadata": {
    "deletable": true,
    "editable": true
   },
   "source": [
    "## Node and edge attributes"
   ]
  },
  {
   "cell_type": "code",
   "execution_count": 5,
   "metadata": {
    "collapsed": false,
    "deletable": true,
    "editable": true
   },
   "outputs": [
    {
     "data": {
      "text/plain": [
       "{'color': array(['blue'], dtype=object), 'size': array([ 2.])}"
      ]
     },
     "execution_count": 5,
     "metadata": {},
     "output_type": "execute_result"
    }
   ],
   "source": [
    "''' Adding a node with attributes '''\n",
    "g2 = nngt.Graph()\n",
    "g2.new_node(attributes={'size': 2., 'color': 'blue'}, value_types={'size': 'double', 'color': 'string'})\n",
    "g2.node_attributes"
   ]
  },
  {
   "cell_type": "code",
   "execution_count": 6,
   "metadata": {
    "collapsed": false,
    "deletable": true,
    "editable": true
   },
   "outputs": [
    {
     "data": {
      "text/plain": [
       "{'color': array(['blue', 'r', 'g', 'b'], dtype=object),\n",
       " 'size': array([ 2.,  4.,  5.,  1.])}"
      ]
     },
     "execution_count": 6,
     "metadata": {},
     "output_type": "execute_result"
    }
   ],
   "source": [
    "''' Adding several nodes with attributes '''\n",
    "g2.new_node(3, attributes={'size': [4., 5., 1.], 'color': ['r', 'g', 'b']}, value_types={'size': 'double', 'color': 'string'})\n",
    "g2.node_attributes"
   ]
  },
  {
   "cell_type": "code",
   "execution_count": 7,
   "metadata": {
    "collapsed": false,
    "deletable": true,
    "editable": true
   },
   "outputs": [
    {
     "data": {
      "text/plain": [
       "{'color': array(['blue', 'r', 'g', 'b', None, None, None], dtype=object),\n",
       " 'size': array([2.0, 4.0, 5.0, 1.0, None, None, None], dtype=object)}"
      ]
     },
     "execution_count": 7,
     "metadata": {},
     "output_type": "execute_result"
    }
   ],
   "source": [
    "''' Default filled if no attributes are provided '''\n",
    "g2.new_node(3)\n",
    "g2.node_attributes"
   ]
  },
  {
   "cell_type": "code",
   "execution_count": 8,
   "metadata": {
    "collapsed": false,
    "deletable": true,
    "editable": true
   },
   "outputs": [
    {
     "data": {
      "text/plain": [
       "{'size': array([  6.97120874,   6.36159497,  11.31705205,   4.64960615,\n",
       "         14.61897608,   9.75510468,  11.92726921,  16.84046095,\n",
       "         18.01608475,  18.08537631,   0.73398321,   0.31905449,\n",
       "         15.81280708,   4.48619484,  19.05287827,   9.18803831,\n",
       "          7.9100094 ,   8.49128856,   8.29725551,  14.23787289,\n",
       "          9.42278482,   1.59984978,   6.17734436,   8.7945845 ,\n",
       "         16.0555756 ,  12.05871212,  10.45589943,  17.34024839,\n",
       "         19.71536118,  17.58796378,  12.44542237,   0.79660016,\n",
       "         14.03269753,   6.62457692,  19.58414423,   6.37211521,\n",
       "         17.9510371 ,  14.50516122,   7.21329072,  15.17374385,\n",
       "         17.04133982,   1.06324862,   2.53171668,  19.94258249,\n",
       "          5.6002934 ,  19.01766685,   2.787134  ,  12.20724252,\n",
       "         10.63910115,  19.39073062,  11.00119355,  11.50873461,\n",
       "         13.57120023,  14.8442917 ,   6.87512446,   2.92526945,\n",
       "          3.07519604,  13.71695732,   9.19753879,  14.42471012,\n",
       "          5.73640513,  15.57161708,   3.92023395,   2.02286531,\n",
       "         18.52758744,   2.24213486,  12.68436769,  14.80363685,\n",
       "          4.94180305,   7.32574011,  12.64154653,   1.92546832,\n",
       "         17.9144241 ,   3.06007514,  14.3323149 ,  14.7774701 ,\n",
       "          7.39564047,  15.02250736,   0.40894878,  13.08661193,\n",
       "          8.89721678,  12.01322635,  17.44967885,  17.32092632,\n",
       "         11.94765173,   0.47846679,  14.89721576,   2.3103937 ,\n",
       "          5.94067068,   7.81286077,  16.47702393,  17.18363801,\n",
       "          6.8651863 ,  14.4922268 ,  18.50180749,   6.92715024,\n",
       "          7.12326632,  13.50187427,   0.78453811,  10.66752383])}"
      ]
     },
     "execution_count": 8,
     "metadata": {},
     "output_type": "execute_result"
    }
   ],
   "source": [
    "''' Attributes can also be created afterwards '''\n",
    "g3 = nngt.Graph(nodes=100)\n",
    "g3.new_node_attribute('size', 'double', values=np.random.uniform(0, 20, 100))\n",
    "g3.node_attributes"
   ]
  },
  {
   "cell_type": "code",
   "execution_count": 9,
   "metadata": {
    "collapsed": false,
    "deletable": true,
    "editable": true
   },
   "outputs": [
    {
     "data": {
      "text/plain": [
       "{'rank': array([2, 2, 2, 0, 0, 0, 0, 0, 0, 0, 0, 0, 0, 0, 0, 0, 0, 0, 0, 0, 0, 0, 0,\n",
       "        0, 0, 0, 0, 0, 0, 0, 0, 0, 0, 0, 0, 0, 0, 0, 0, 0, 0, 0, 0, 0, 0, 0,\n",
       "        0, 0, 0, 0]),\n",
       " 'weight': array([ 1.,  1.,  1.,  1.,  1.,  1.,  1.,  1.,  1.,  1.,  1.,  1.,  1.,\n",
       "         1.,  1.,  1.,  1.,  1.,  1.,  1.,  1.,  1.,  1.,  1.,  1.,  1.,\n",
       "         1.,  1.,  1.,  1.,  1.,  1.,  1.,  1.,  1.,  1.,  1.,  1.,  1.,\n",
       "         1.,  1.,  1.,  1.,  1.,  1.,  1.,  1.,  1.,  1.,  1.])}"
      ]
     },
     "execution_count": 9,
     "metadata": {},
     "output_type": "execute_result"
    }
   ],
   "source": [
    "edges = g3.new_edges(np.random.randint(0, 100, (50, 2)))\n",
    "g3.new_edge_attribute('rank', 'int', val=0)\n",
    "g3.set_edge_attribute('rank', val=2, edges=edges[:3, :])\n",
    "g3.edge_attributes"
   ]
  },
  {
   "cell_type": "markdown",
   "metadata": {
    "deletable": true,
    "editable": true
   },
   "source": [
    "## Generating and analyzing more complex networks\n",
    "\n",
    "NNGT provides a whole set of methods to connect nodes in specific fashions inside a graph.\n",
    "These methods are present in the `nngt.generation` module, and the network properties can then be plotted and analyzed via the tools present in the `nngt.plot` and `nngt.analysis` modules.\n",
    "\n",
    "NNGT implements some fast generation tools to create several of the standard\n",
    "networks, such as"
   ]
  },
  {
   "cell_type": "markdown",
   "metadata": {
    "deletable": true,
    "editable": true
   },
   "source": [
    "### Erdős-Rényi"
   ]
  },
  {
   "cell_type": "code",
   "execution_count": 6,
   "metadata": {
    "collapsed": false,
    "deletable": true,
    "editable": true
   },
   "outputs": [
    {
     "data": {
      "image/png": "[encoded data removed]",
      "text/plain": [
       "<matplotlib.figure.Figure at 0x7fc9546987d0>"
      ]
     },
     "metadata": {},
     "output_type": "display_data"
    },
    {
     "name": "stdout",
     "output_type": "stream",
     "text": [
      "Clustering: 0.190201201802\n"
     ]
    }
   ],
   "source": [
    "'''\n",
    "Create an Erdos-Renyi network,\n",
    "then look at its in/total-degree distributions\n",
    "and its clustering coefficient\n",
    "'''\n",
    "g = ng.erdos_renyi(nodes=1000, avg_deg=100)\n",
    "nplt.degree_distribution(g, ('in', 'total'), show=True)\n",
    "print(\"Clustering: {}\".format(na.clustering(g)))"
   ]
  },
  {
   "cell_type": "markdown",
   "metadata": {
    "collapsed": true,
    "deletable": true,
    "editable": true
   },
   "source": [
    "### Scale-free\n",
    "\n",
    "More heterogeneous networks, with scale-free degree distribution (but no correlations like in Barabasi-Albert networks and user-defined exponents)"
   ]
  },
  {
   "cell_type": "code",
   "execution_count": 7,
   "metadata": {
    "collapsed": false,
    "deletable": true,
    "editable": true
   },
   "outputs": [
    {
     "data": {
      "image/png": "[encoded data removed]",
      "text/plain": [
       "<matplotlib.figure.Figure at 0x7fc94fb4d850>"
      ]
     },
     "metadata": {},
     "output_type": "display_data"
    },
    {
     "name": "stdout",
     "output_type": "stream",
     "text": [
      "Clustering: 0.25987736704\n"
     ]
    }
   ],
   "source": [
    "''' Compare in/out-degree distributions + clustering '''\n",
    "g = ng.random_scale_free(1.8, 3.2, nodes=1000, avg_deg=100)\n",
    "nplt.degree_distribution(g, ('in', 'out'), num_bins=30, logx=True, logy=True, show=True)\n",
    "print(\"Clustering: {}\".format(na.clustering(g)))"
   ]
  },
  {
   "cell_type": "markdown",
   "metadata": {
    "collapsed": true,
    "deletable": true,
    "editable": true
   },
   "source": [
    "## Towards realistic neuronal networks: neural groups and spatial embedding\n",
    "\n",
    "NNGT provides two classes to deal with spatial embedding and neuronal properties: the ``SpatialGraph`` and ``Network`` classes, which can be combined to get a ``SpatialNetwork``, including both neuronal properties and spatial embedding."
   ]
  },
  {
   "cell_type": "markdown",
   "metadata": {
    "deletable": true,
    "editable": true
   },
   "source": [
    "### Creating groups of neurons with specific properties\n",
    "\n",
    "The ``NeuralGroup`` class allows the user to create groups of neurons that share common electrophysiological and synaptic properties."
   ]
  },
  {
   "cell_type": "code",
   "execution_count": 2,
   "metadata": {
    "collapsed": false,
    "deletable": true,
    "editable": true
   },
   "outputs": [],
   "source": [
    "''' Create groups with different parameters '''\n",
    "base_params = {'E_L': -60., 'V_th': -55., 'b': 10., 'tau_w': 100., 'V_reset': -65., 't_ref': 1., 'g_L': 10., 'C_m': 250.}\n",
    "params1, params2, params3 = base_params.copy(), base_params.copy(), base_params.copy()\n",
    "params1.update({'E_L': -65., 'b': 30., 'I_e': 350., 'tau_w': 400.})  # oscillators\n",
    "params2.update({'b': 20., 'V_reset': -50., 'tau_w': 500.})           # bursters\n",
    "\n",
    "g1 = nngt.NeuralGroup(nodes=400, model='aeif_psc_alpha', neuron_param=params1, syn_model='tsodyks2_synapse', syn_param={'U': 0.5})\n",
    "g2 = nngt.NeuralGroup(nodes=200, model='aeif_psc_alpha', neuron_param=params2, syn_model='tsodyks2_synapse')\n",
    "g3 = nngt.NeuralGroup(nodes=200, model='aeif_psc_alpha', neuron_param=params3, syn_model='tsodyks2_synapse')\n",
    "\n",
    "''' Create the population that will represent the neuronal network from these groups '''\n",
    "pop = nngt.NeuralPop.from_groups([g1, g2, g3], names=['oscillators', 'bursters', 'adaptive'])\n",
    "\n",
    "''' Create the network from this population, using a Gaussian in-degree '''\n",
    "net = nngt.generation.gaussian_degree(100., 15., population=pop, weights=1500.)"
   ]
  },
  {
   "cell_type": "code",
   "execution_count": 16,
   "metadata": {
    "collapsed": false,
    "deletable": true,
    "editable": true
   },
   "outputs": [],
   "source": [
    "'''\n",
    "Compare the properties across the different groups\n",
    "(even though it makes little sense here since they\n",
    "all belong to the same ER graph)\n",
    "'''\n",
    "# we will plot al them on the same axis\n",
    "fig, ax = plt.subplots()\n",
    "\n",
    "nplt.degree_distribution(net, nodes=pop['oscillators'].ids, axis=ax, color='r', label='osc.', alpha=0.5)\n",
    "nplt.degree_distribution(net, nodes=pop['bursters'].ids, axis=ax, color='b', label='burst.', alpha=0.5)\n",
    "nplt.degree_distribution(net, nodes=pop['adaptive'].ids, axis=ax, color='k', label='adapt.', alpha=0.5)\n",
    "\n",
    "plt.show()"
   ]
  },
  {
   "cell_type": "code",
   "execution_count": 3,
   "metadata": {
    "collapsed": false,
    "deletable": true,
    "editable": true
   },
   "outputs": [
    {
     "name": "stdout",
     "output_type": "stream",
     "text": [
      "([(801,), (802,), (803,), (804,), (805,), (806,)], ['spikes', ['V_m', 'w', 'I_syn_ex'], 'spikes', ['V_m', 'w', 'I_syn_ex'], 'spikes', ['V_m', 'w', 'I_syn_ex']])\n"
     ]
    }
   ],
   "source": [
    "''' Create the network in NEST and monitor the activity '''\n",
    "import nngt.simulation as ns\n",
    "import nest\n",
    "\n",
    "nest.ResetKernel()\n",
    "nest.SetKernelStatus({'local_num_threads': 4})\n",
    "\n",
    "# send the network to NEST\n",
    "gids = net.to_nest()\n",
    "# record each group separately\n",
    "recorders, records = ns.monitor_groups(\n",
    "    pop.keys(), net, ['spike_detector', 'multimeter'],\n",
    "    [{}, {'record_from': ['V_m', 'w', 'I_syn_ex'], 'to_accumulator': True}])\n",
    "\n",
    "# simulate\n",
    "nest.Simulate(2000.)\n",
    "\n",
    "# plot the resulting activity\n",
    "ns.plot_activity(recorders, records, network=net, label=2*['oscillators', 'bursters', 'adaptive'], normalize=net.population)\n",
    "\n",
    "plt.show()"
   ]
  },
  {
   "cell_type": "code",
   "execution_count": 4,
   "metadata": {
    "collapsed": false,
    "deletable": true,
    "editable": true
   },
   "outputs": [],
   "source": [
    "''' Correcting the initial synchrony '''\n",
    "import nngt.simulation as ns\n",
    "import nest\n",
    "\n",
    "rnd_states = {\n",
    "    'V_m': ['uniform', -80., -60.],\n",
    "    'w': ['uniform', 200., 2000.]\n",
    "}\n",
    "\n",
    "nest.ResetKernel()\n",
    "nest.SetKernelStatus({'local_num_threads': 4})\n",
    "\n",
    "gids = net.to_nest()\n",
    "ns.randomize_neural_states(net, rnd_states)  # randomize potential and adaptation variable\n",
    "recorders, records = ns.monitor_groups(pop.keys(), net)\n",
    "\n",
    "nest.Simulate(2000.)\n",
    "\n",
    "ns.plot_activity(recorders, records, network=net, label=['oscillators', 'bursters', 'adaptive'])\n",
    "plt.show()"
   ]
  },
  {
   "cell_type": "code",
   "execution_count": null,
   "metadata": {
    "collapsed": true,
    "deletable": true,
    "editable": true
   },
   "outputs": [],
   "source": []
  }
 ],
 "metadata": {
  "kernelspec": {
   "display_name": "Python 2",
   "language": "python",
   "name": "python2"
  },
  "language_info": {
   "codemirror_mode": {
    "name": "ipython",
    "version": 2
   },
   "file_extension": ".py",
   "mimetype": "text/x-python",
   "name": "python",
   "nbconvert_exporter": "python",
   "pygments_lexer": "ipython2",
   "version": "2.7.12"
  }
 },
 "nbformat": 4,
 "nbformat_minor": 2
}
